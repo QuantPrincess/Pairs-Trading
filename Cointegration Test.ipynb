{
 "cells": [
  {
   "cell_type": "code",
   "execution_count": 1,
   "id": "89322f49",
   "metadata": {},
   "outputs": [],
   "source": [
    "import pandas as pd\n",
    "import matplotlib.pyplot as plt\n",
    "import numpy as np\n",
    "import scipy.stats as stats\n",
    "from scipy.stats import pearsonr\n",
    "import yfinance as yf\n",
    "import itertools\n",
    "import math\n",
    "import random\n",
    "import statsmodels\n",
    "import statsmodels.api as sm\n",
    "from statsmodels.tsa.stattools import coint, adfuller\n"
   ]
  },
  {
   "cell_type": "code",
   "execution_count": 10,
   "id": "4b0795e0",
   "metadata": {},
   "outputs": [],
   "source": [
    "#Random asset list\n",
    "lst=('AAPL','MSFT','JPM','ADM','WMT','HD')\n",
    "\n",
    "#dates for model calibration\n",
    "start_data='2015-09-01'\n",
    "end_data='2022-09-01'"
   ]
  },
  {
   "cell_type": "code",
   "execution_count": 11,
   "id": "042b6bd8",
   "metadata": {},
   "outputs": [],
   "source": [
    "pair_order_list = itertools.combinations(lst,2)\n",
    "pairs=list(pair_order_list)"
   ]
  },
  {
   "cell_type": "code",
   "execution_count": 12,
   "id": "5794800c",
   "metadata": {},
   "outputs": [
    {
     "name": "stdout",
     "output_type": "stream",
     "text": [
      "[*********************100%***********************]  1 of 1 completed\n",
      "[*********************100%***********************]  1 of 1 completed\n",
      "[*********************100%***********************]  1 of 1 completed\n",
      "[*********************100%***********************]  1 of 1 completed\n",
      "[*********************100%***********************]  1 of 1 completed\n",
      "[*********************100%***********************]  1 of 1 completed\n"
     ]
    }
   ],
   "source": [
    "ret_df= pd.DataFrame()\n",
    "for j in range(0,len(lst)):\n",
    "    X = yf.download(lst[j], start = start_data, end=end_data)\n",
    "    X.reset_index(inplace=True)\n",
    "    X.tail()\n",
    "    X['Log_Returns'] = np.log(X['Adj Close']) - np.log(X['Adj Close'].shift(1))\n",
    "    x = X['Log_Returns'].drop(labels=0, axis=0)\n",
    "    date=X['Date'].drop(labels=0,axis=0)\n",
    "    date=date.to_frame()\n",
    "\n",
    "    x_df=x.to_frame().dropna()\n",
    "\n",
    "    b=x_df.rename(columns={'Log_Returns': lst[j]})\n",
    "    b=b[lst[j]].values\n",
    "    ret_df[lst[j]]=b"
   ]
  },
  {
   "cell_type": "code",
   "execution_count": 13,
   "id": "330ca84d",
   "metadata": {},
   "outputs": [
    {
     "name": "stdout",
     "output_type": "stream",
     "text": [
      "('AAPL', 'MSFT')  are not cointegrated\n",
      "0.19596254953483488\n",
      "('AAPL', 'JPM')  are not cointegrated\n",
      "0.7756330420163775\n",
      "('AAPL', 'ADM')  are not cointegrated\n",
      "0.5097159112742138\n",
      "('AAPL', 'WMT')  are not cointegrated\n",
      "0.2552297545302067\n",
      "('AAPL', 'HD')  are cointegrated\n",
      "0.034676850576910556\n",
      "('MSFT', 'JPM')  are not cointegrated\n",
      "0.636366586802845\n",
      "('MSFT', 'ADM')  are not cointegrated\n",
      "0.5768767711907352\n",
      "('MSFT', 'WMT')  are cointegrated\n",
      "0.012819802536813725\n",
      "('MSFT', 'HD')  are cointegrated\n",
      "0.0007413336768452581\n",
      "('JPM', 'ADM')  are not cointegrated\n",
      "0.7796917491899228\n",
      "('JPM', 'WMT')  are not cointegrated\n",
      "0.1281032929223192\n",
      "('JPM', 'HD')  are not cointegrated\n",
      "0.3191056014225556\n",
      "('ADM', 'WMT')  are not cointegrated\n",
      "0.9097254606907439\n",
      "('ADM', 'HD')  are not cointegrated\n",
      "0.7829081780216565\n",
      "('WMT', 'HD')  are cointegrated\n",
      "0.023290395507377992\n"
     ]
    }
   ],
   "source": [
    "co_pairs=[]\n",
    "np.random.seed(107)\n",
    "for i in range(0,len(pairs)):\n",
    "    score, pvalue, _ = coint(np.cumsum(ret_df[pairs[i][0]]),np.cumsum(ret_df[pairs[i][1]]))\n",
    "\n",
    "    confidence_level = 0.05\n",
    "\n",
    "    if pvalue < confidence_level:\n",
    "        co_pairs.append(pairs[i])\n",
    "        print (pairs[i],\" are cointegrated\")\n",
    "        print (pvalue)\n",
    "    else:\n",
    "        print (pairs[i],\" are not cointegrated\")\n",
    "        print (pvalue)\n"
   ]
  },
  {
   "cell_type": "code",
   "execution_count": 15,
   "id": "1e179f4f",
   "metadata": {},
   "outputs": [
    {
     "name": "stdout",
     "output_type": "stream",
     "text": [
      "Cointegrated pairs\n"
     ]
    },
    {
     "data": {
      "text/plain": [
       "[('AAPL', 'HD'), ('MSFT', 'WMT'), ('MSFT', 'HD'), ('WMT', 'HD')]"
      ]
     },
     "execution_count": 15,
     "metadata": {},
     "output_type": "execute_result"
    }
   ],
   "source": [
    "print('Cointegrated pairs')\n",
    "co_pairs"
   ]
  }
 ],
 "metadata": {
  "kernelspec": {
   "display_name": "Python 3 (ipykernel)",
   "language": "python",
   "name": "python3"
  },
  "language_info": {
   "codemirror_mode": {
    "name": "ipython",
    "version": 3
   },
   "file_extension": ".py",
   "mimetype": "text/x-python",
   "name": "python",
   "nbconvert_exporter": "python",
   "pygments_lexer": "ipython3",
   "version": "3.9.7"
  }
 },
 "nbformat": 4,
 "nbformat_minor": 5
}

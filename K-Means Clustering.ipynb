{
 "cells": [
  {
   "cell_type": "code",
   "execution_count": 30,
   "id": "a9881bf5",
   "metadata": {},
   "outputs": [],
   "source": [
    "import pandas as pd\n",
    "import pandas_ta as ta\n",
    "import matplotlib.pyplot as plt\n",
    "import numpy as np\n",
    "import scipy.stats as stats\n",
    "import yfinance as yf\n",
    "import itertools\n",
    "import math\n",
    "from co import *\n",
    "import ndtest\n",
    "import random\n",
    "from hurst import *\n"
   ]
  },
  {
   "cell_type": "markdown",
   "id": "2628d509",
   "metadata": {},
   "source": [
    "# Ticker list and trade/model calibration dates"
   ]
  },
  {
   "cell_type": "code",
   "execution_count": 31,
   "id": "91e04f1c",
   "metadata": {},
   "outputs": [],
   "source": [
    "#sp500 ticker download\n",
    "import bs4 as bs\n",
    "import pickle\n",
    "import requests\n",
    "\n",
    "def save_sp500_tickers():\n",
    "    resp = requests.get('http://en.wikipedia.org/wiki/List_of_S%26P_500_companies')\n",
    "    soup = bs.BeautifulSoup(resp.text, 'lxml')\n",
    "    table = soup.find('table', {'class': 'wikitable sortable'})\n",
    "    tickers = []\n",
    "    for row in table.findAll('tr')[1:]:\n",
    "        ticker = row.findAll('td')[0].text\n",
    "        tickers.append(ticker)\n",
    "        \n",
    "    with open(\"sp500tickers.pickle\",\"wb\") as f:\n",
    "        pickle.dump(tickers,f)\n",
    "        \n",
    "    return tickers\n",
    "\n",
    "x=save_sp500_tickers()\n",
    "\n",
    "for i in range (0,len(x)):\n",
    "    x[i]=x[i].replace('\\n', '')\n",
    "x.remove('BRK.B')\n",
    "x.remove('BF.B')\n",
    "x.remove('ZTS')\n",
    "x.remove('ZION')\n",
    "x.remove('ZBH')\n",
    "x.remove('ZBRA')\n",
    "x.remove('ALB')\n",
    "asset_list=x"
   ]
  },
  {
   "cell_type": "code",
   "execution_count": 32,
   "id": "b67627f7",
   "metadata": {},
   "outputs": [],
   "source": [
    "#Asset list\n",
    "lst=asset_list\n",
    "\n",
    "#dates for model calibration\n",
    "start_data='2020-08-19'\n",
    "end_data='2022-08-19'\n",
    "\n",
    "#dates for trading with algo\n",
    "start_trade='2022-08-01'\n",
    "end_trade='2022-09-01'\n",
    "\n",
    "index_comp='SPY'\n",
    "\n",
    "# Length of trading period\n",
    "from datetime import *\n",
    "\n",
    "d1=datetime.strptime(start_trade, \"%Y-%m-%d\")\n",
    "d2=datetime.strptime(end_trade, \"%Y-%m-%d\")\n",
    "length_trade_period =(np.abs(d1-d2)).days\n"
   ]
  },
  {
   "cell_type": "markdown",
   "id": "dd7603d4",
   "metadata": {},
   "source": [
    "# Mean return and volatility for each asset in basket (calculated using VWAP)"
   ]
  },
  {
   "cell_type": "code",
   "execution_count": null,
   "id": "d934b09a",
   "metadata": {
    "scrolled": false
   },
   "outputs": [],
   "source": [
    "#feature vectors for each asset\n",
    "mean_ret_lst=[]\n",
    "vol_lst=[]\n",
    "\n",
    "feature_df = pd.DataFrame(columns=['mean return', 'volatility'])\n",
    "\n",
    "for i in lst:\n",
    "    x=yf.download(i, start=start_trade, end=end_trade, interval = \"1d\")\n",
    "    x.ta.vwap(append=True).dropna()\n",
    "    x['Log_Returns'] = np.log(x['VWAP_D']) - np.log(x['VWAP_D'].shift(1))\n",
    "    x = x['Log_Returns'].fillna(0)\n",
    "\n",
    "    # mean return of trading period\n",
    "    mean_ret = x.mean()*length_trade_period\n",
    "    mean_ret_lst.append\n",
    "\n",
    "    #mean volatility (vwap) of trading period\n",
    "    vol=x.std()*np.sqrt(length_trade_period)\n",
    "    \n",
    "    feature_df.loc[i]= [mean_ret, vol]\n"
   ]
  },
  {
   "cell_type": "markdown",
   "id": "c1eac618",
   "metadata": {},
   "source": [
    "# Mean returns and volatility of basket of assets"
   ]
  },
  {
   "cell_type": "code",
   "execution_count": 33,
   "id": "f57c93bc",
   "metadata": {},
   "outputs": [
    {
     "data": {
      "text/html": [
       "<div>\n",
       "<style scoped>\n",
       "    .dataframe tbody tr th:only-of-type {\n",
       "        vertical-align: middle;\n",
       "    }\n",
       "\n",
       "    .dataframe tbody tr th {\n",
       "        vertical-align: top;\n",
       "    }\n",
       "\n",
       "    .dataframe thead th {\n",
       "        text-align: right;\n",
       "    }\n",
       "</style>\n",
       "<table border=\"1\" class=\"dataframe\">\n",
       "  <thead>\n",
       "    <tr style=\"text-align: right;\">\n",
       "      <th></th>\n",
       "      <th>mean return</th>\n",
       "      <th>volatility</th>\n",
       "      <th>labels</th>\n",
       "    </tr>\n",
       "  </thead>\n",
       "  <tbody>\n",
       "    <tr>\n",
       "      <th>MMM</th>\n",
       "      <td>-0.183411</td>\n",
       "      <td>0.106008</td>\n",
       "      <td>1</td>\n",
       "    </tr>\n",
       "    <tr>\n",
       "      <th>AOS</th>\n",
       "      <td>-0.114167</td>\n",
       "      <td>0.081251</td>\n",
       "      <td>1</td>\n",
       "    </tr>\n",
       "    <tr>\n",
       "      <th>ABT</th>\n",
       "      <td>-0.077187</td>\n",
       "      <td>0.054397</td>\n",
       "      <td>1</td>\n",
       "    </tr>\n",
       "    <tr>\n",
       "      <th>ABBV</th>\n",
       "      <td>-0.057189</td>\n",
       "      <td>0.040779</td>\n",
       "      <td>0</td>\n",
       "    </tr>\n",
       "    <tr>\n",
       "      <th>ABMD</th>\n",
       "      <td>-0.149033</td>\n",
       "      <td>0.107534</td>\n",
       "      <td>1</td>\n",
       "    </tr>\n",
       "    <tr>\n",
       "      <th>...</th>\n",
       "      <td>...</td>\n",
       "      <td>...</td>\n",
       "      <td>...</td>\n",
       "    </tr>\n",
       "    <tr>\n",
       "      <th>GWW</th>\n",
       "      <td>0.023936</td>\n",
       "      <td>0.052480</td>\n",
       "      <td>0</td>\n",
       "    </tr>\n",
       "    <tr>\n",
       "      <th>WYNN</th>\n",
       "      <td>-0.045989</td>\n",
       "      <td>0.120341</td>\n",
       "      <td>1</td>\n",
       "    </tr>\n",
       "    <tr>\n",
       "      <th>XEL</th>\n",
       "      <td>0.027682</td>\n",
       "      <td>0.037318</td>\n",
       "      <td>0</td>\n",
       "    </tr>\n",
       "    <tr>\n",
       "      <th>XYL</th>\n",
       "      <td>0.003984</td>\n",
       "      <td>0.102714</td>\n",
       "      <td>0</td>\n",
       "    </tr>\n",
       "    <tr>\n",
       "      <th>YUM</th>\n",
       "      <td>-0.129340</td>\n",
       "      <td>0.048028</td>\n",
       "      <td>1</td>\n",
       "    </tr>\n",
       "  </tbody>\n",
       "</table>\n",
       "<p>496 rows × 3 columns</p>\n",
       "</div>"
      ],
      "text/plain": [
       "      mean return  volatility labels\n",
       "MMM     -0.183411    0.106008      1\n",
       "AOS     -0.114167    0.081251      1\n",
       "ABT     -0.077187    0.054397      1\n",
       "ABBV    -0.057189    0.040779      0\n",
       "ABMD    -0.149033    0.107534      1\n",
       "...           ...         ...    ...\n",
       "GWW      0.023936    0.052480      0\n",
       "WYNN    -0.045989    0.120341      1\n",
       "XEL      0.027682    0.037318      0\n",
       "XYL      0.003984    0.102714      0\n",
       "YUM     -0.129340    0.048028      1\n",
       "\n",
       "[496 rows x 3 columns]"
      ]
     },
     "execution_count": 33,
     "metadata": {},
     "output_type": "execute_result"
    }
   ],
   "source": [
    "feature_df"
   ]
  },
  {
   "cell_type": "code",
   "execution_count": 34,
   "id": "7e00f766",
   "metadata": {
    "scrolled": true
   },
   "outputs": [
    {
     "data": {
      "image/png": "[encoded data removed]",
      "text/plain": [
       "<Figure size 1440x360 with 2 Axes>"
      ]
     },
     "metadata": {
      "needs_background": "light"
     },
     "output_type": "display_data"
    }
   ],
   "source": [
    "%matplotlib inline\n",
    "feature_df.hist(bins=50, figsize=(20,5))\n",
    "plt.show()"
   ]
  },
  {
   "cell_type": "markdown",
   "id": "27b75b3a",
   "metadata": {},
   "source": [
    "# As expected, returns are not perfectly Gaussian (some fat tails and not N(0,1)) so lets standardise data before running clustering algo"
   ]
  },
  {
   "cell_type": "code",
   "execution_count": 7,
   "id": "04aaf80d",
   "metadata": {},
   "outputs": [
    {
     "data": {
      "text/html": [
       "<div>\n",
       "<style scoped>\n",
       "    .dataframe tbody tr th:only-of-type {\n",
       "        vertical-align: middle;\n",
       "    }\n",
       "\n",
       "    .dataframe tbody tr th {\n",
       "        vertical-align: top;\n",
       "    }\n",
       "\n",
       "    .dataframe thead th {\n",
       "        text-align: right;\n",
       "    }\n",
       "</style>\n",
       "<table border=\"1\" class=\"dataframe\">\n",
       "  <thead>\n",
       "    <tr style=\"text-align: right;\">\n",
       "      <th></th>\n",
       "      <th>mean return</th>\n",
       "      <th>volatility</th>\n",
       "    </tr>\n",
       "  </thead>\n",
       "  <tbody>\n",
       "    <tr>\n",
       "      <th>MMM</th>\n",
       "      <td>-1.591385</td>\n",
       "      <td>0.557073</td>\n",
       "    </tr>\n",
       "    <tr>\n",
       "      <th>AOS</th>\n",
       "      <td>-0.820789</td>\n",
       "      <td>-0.094304</td>\n",
       "    </tr>\n",
       "    <tr>\n",
       "      <th>ABT</th>\n",
       "      <td>-0.409240</td>\n",
       "      <td>-0.800870</td>\n",
       "    </tr>\n",
       "    <tr>\n",
       "      <th>ABBV</th>\n",
       "      <td>-0.186687</td>\n",
       "      <td>-1.159185</td>\n",
       "    </tr>\n",
       "    <tr>\n",
       "      <th>ABMD</th>\n",
       "      <td>-1.208801</td>\n",
       "      <td>0.597228</td>\n",
       "    </tr>\n",
       "    <tr>\n",
       "      <th>...</th>\n",
       "      <td>...</td>\n",
       "      <td>...</td>\n",
       "    </tr>\n",
       "    <tr>\n",
       "      <th>GWW</th>\n",
       "      <td>0.716145</td>\n",
       "      <td>-0.851321</td>\n",
       "    </tr>\n",
       "    <tr>\n",
       "      <th>WYNN</th>\n",
       "      <td>-0.062044</td>\n",
       "      <td>0.934193</td>\n",
       "    </tr>\n",
       "    <tr>\n",
       "      <th>XEL</th>\n",
       "      <td>0.757837</td>\n",
       "      <td>-1.250249</td>\n",
       "    </tr>\n",
       "    <tr>\n",
       "      <th>XYL</th>\n",
       "      <td>0.494102</td>\n",
       "      <td>0.470399</td>\n",
       "    </tr>\n",
       "    <tr>\n",
       "      <th>YUM</th>\n",
       "      <td>-0.989646</td>\n",
       "      <td>-0.968446</td>\n",
       "    </tr>\n",
       "  </tbody>\n",
       "</table>\n",
       "<p>496 rows × 2 columns</p>\n",
       "</div>"
      ],
      "text/plain": [
       "      mean return  volatility\n",
       "MMM     -1.591385    0.557073\n",
       "AOS     -0.820789   -0.094304\n",
       "ABT     -0.409240   -0.800870\n",
       "ABBV    -0.186687   -1.159185\n",
       "ABMD    -1.208801    0.597228\n",
       "...           ...         ...\n",
       "GWW      0.716145   -0.851321\n",
       "WYNN    -0.062044    0.934193\n",
       "XEL      0.757837   -1.250249\n",
       "XYL      0.494102    0.470399\n",
       "YUM     -0.989646   -0.968446\n",
       "\n",
       "[496 rows x 2 columns]"
      ]
     },
     "execution_count": 7,
     "metadata": {},
     "output_type": "execute_result"
    }
   ],
   "source": [
    "from sklearn.preprocessing import StandardScaler\n",
    "feature_array=feature_df.values\n",
    "\n",
    "scale=StandardScaler().fit(feature_array)\n",
    "\n",
    "scale_feature_df=pd.DataFrame(scale.fit_transform(feature_array),\n",
    "                              columns=feature_df.columns,\n",
    "                              index=feature_df.index)\n",
    "scale_feature_df\n"
   ]
  },
  {
   "cell_type": "code",
   "execution_count": 8,
   "id": "0f39fdd5",
   "metadata": {},
   "outputs": [
    {
     "data": {
      "image/png": "[encoded data removed]",
      "text/plain": [
       "<Figure size 1440x360 with 2 Axes>"
      ]
     },
     "metadata": {
      "needs_background": "light"
     },
     "output_type": "display_data"
    }
   ],
   "source": [
    "%matplotlib inline\n",
    "\n",
    "scale_feature_df.hist(bins=50, figsize=(20,5))\n",
    "plt.show()\n"
   ]
  },
  {
   "cell_type": "markdown",
   "id": "c0676f14",
   "metadata": {},
   "source": [
    "# Optimal number of clusters"
   ]
  },
  {
   "cell_type": "code",
   "execution_count": 9,
   "id": "e34e8dd7",
   "metadata": {},
   "outputs": [
    {
     "data": {
      "image/png": "[encoded data removed]",
      "text/plain": [
       "<Figure size 1080x360 with 1 Axes>"
      ]
     },
     "metadata": {
      "needs_background": "light"
     },
     "output_type": "display_data"
    }
   ],
   "source": [
    "#find ideal numbers of clusters for our basket\n",
    "\n",
    "from sklearn import metrics\n",
    "from sklearn.cluster import KMeans\n",
    "%matplotlib inline\n",
    "\n",
    "K = range(1,15)\n",
    "distortions = []\n",
    "d=[]\n",
    "#Fit the method\n",
    "for k in K:\n",
    "    kmeans = KMeans(n_clusters = k)\n",
    "    kmeans.fit(scale_feature_df.values)\n",
    "    distortions.append(kmeans.inertia_)\n",
    "\n",
    "#Plot the results\n",
    "fig = plt.figure(figsize= (15,5))\n",
    "plt.plot(K, distortions, 'bx-')\n",
    "plt.xlabel('Values of K')\n",
    "plt.ylabel('Distortion')\n",
    "plt.title('Elbow Method')\n",
    "plt.grid(True)\n",
    "plt.show()\n"
   ]
  },
  {
   "cell_type": "code",
   "execution_count": 10,
   "id": "b404e4ea",
   "metadata": {},
   "outputs": [
    {
     "data": {
      "text/plain": [
       "4"
      ]
     },
     "execution_count": 10,
     "metadata": {},
     "output_type": "execute_result"
    }
   ],
   "source": [
    "from kneed import KneeLocator\n",
    "kl = KneeLocator(K, distortions, curve=\"convex\", direction=\"decreasing\")\n",
    "k_clusters=kl.elbow\n",
    "k_clusters"
   ]
  },
  {
   "cell_type": "markdown",
   "id": "07072961",
   "metadata": {},
   "source": [
    "# Clustering - Kmeans"
   ]
  },
  {
   "cell_type": "code",
   "execution_count": 11,
   "id": "9394931e",
   "metadata": {},
   "outputs": [
    {
     "data": {
      "text/plain": [
       "Text(0, 0.5, 'volatility')"
      ]
     },
     "execution_count": 11,
     "metadata": {},
     "output_type": "execute_result"
    },
    {
     "data": {
      "image/png": "[encoded data removed]",
      "text/plain": [
       "<Figure size 432x288 with 1 Axes>"
      ]
     },
     "metadata": {
      "needs_background": "light"
     },
     "output_type": "display_data"
    }
   ],
   "source": [
    "# Plotting the data points\n",
    "fig, ax = plt.subplots()\n",
    "ax.scatter(scale_feature_df['mean return'], scale_feature_df['volatility'], c='blue', s=10)\n",
    "ax.set_title('basket of assets', fontsize=20)\n",
    "ax.set_xlabel('mean return', fontsize=20)\n",
    "ax.set_ylabel('volatility', fontsize=20)"
   ]
  },
  {
   "cell_type": "code",
   "execution_count": 37,
   "id": "f1b7e158",
   "metadata": {},
   "outputs": [],
   "source": [
    "from sklearn.cluster import KMeans\n",
    "data=scale_feature_df.values\n",
    "model=KMeans(n_clusters=k_clusters) # define a machine learning model using Kmeans algorithm\n",
    "model.fit(data) # run the algorithm/ fit the model to data\n",
    "label=model.predict(data) # get the cluster label of each customer\n",
    "center=model.cluster_centers_"
   ]
  },
  {
   "cell_type": "markdown",
   "id": "74bf564f",
   "metadata": {},
   "source": [
    "# Scatter plot of mean return vs. volatility each color is a different cluster"
   ]
  },
  {
   "cell_type": "code",
   "execution_count": 38,
   "id": "96d7633f",
   "metadata": {},
   "outputs": [
    {
     "data": {
      "text/plain": [
       "Text(0, 0.5, 'volatility')"
      ]
     },
     "execution_count": 38,
     "metadata": {},
     "output_type": "execute_result"
    },
    {
     "data": {
      "image/png": "[encoded data removed]",
      "text/plain": [
       "<Figure size 720x432 with 1 Axes>"
      ]
     },
     "metadata": {
      "needs_background": "light"
     },
     "output_type": "display_data"
    }
   ],
   "source": [
    "fig, ax = plt.subplots(figsize=(10,6))\n",
    "ax.scatter(data[label==0, 0], data[label==0, 1], c='red',s=20)\n",
    "ax.scatter(data[label==1, 0], data[label==1, 1], c='blue', s=20)\n",
    "ax.scatter(data[label==2, 0], data[label==2, 1], c='green', s=20)\n",
    "ax.scatter(data[label==3, 0], data[label==3, 1], c='pink', s=20)\n",
    "ax.plot(center[0,0], center[0,1], c='brown', marker='s', markersize=10)\n",
    "ax.plot(center[1,0], center[1,1], c='brown', marker='s', markersize=10)\n",
    "ax.plot(center[2,0], center[2,1], c='brown', marker='s', markersize=10)\n",
    "ax.plot(center[3,0], center[3,1], c='brown', marker='s', markersize=10)\n",
    "ax.set_title('basket of assets - clustered', fontsize=20)\n",
    "ax.set_xlabel('mean returns', fontsize=20)\n",
    "ax.set_ylabel('volatility', fontsize=20)"
   ]
  },
  {
   "cell_type": "markdown",
   "id": "8b9852e4",
   "metadata": {},
   "source": [
    "## Sort the features dataframe by cluster and then split the features data frame into seperate dataframes each belonging to a single cluster"
   ]
  },
  {
   "cell_type": "code",
   "execution_count": 39,
   "id": "e73abecd",
   "metadata": {},
   "outputs": [
    {
     "data": {
      "text/html": [
       "<div>\n",
       "<style scoped>\n",
       "    .dataframe tbody tr th:only-of-type {\n",
       "        vertical-align: middle;\n",
       "    }\n",
       "\n",
       "    .dataframe tbody tr th {\n",
       "        vertical-align: top;\n",
       "    }\n",
       "\n",
       "    .dataframe thead th {\n",
       "        text-align: right;\n",
       "    }\n",
       "</style>\n",
       "<table border=\"1\" class=\"dataframe\">\n",
       "  <thead>\n",
       "    <tr style=\"text-align: right;\">\n",
       "      <th></th>\n",
       "      <th>mean return</th>\n",
       "      <th>volatility</th>\n",
       "      <th>labels</th>\n",
       "    </tr>\n",
       "  </thead>\n",
       "  <tbody>\n",
       "    <tr>\n",
       "      <th>MMM</th>\n",
       "      <td>-0.183411</td>\n",
       "      <td>0.106008</td>\n",
       "      <td>0</td>\n",
       "    </tr>\n",
       "    <tr>\n",
       "      <th>IPG</th>\n",
       "      <td>-0.088910</td>\n",
       "      <td>0.077277</td>\n",
       "      <td>0</td>\n",
       "    </tr>\n",
       "    <tr>\n",
       "      <th>IFF</th>\n",
       "      <td>-0.150045</td>\n",
       "      <td>0.087057</td>\n",
       "      <td>0</td>\n",
       "    </tr>\n",
       "    <tr>\n",
       "      <th>INTU</th>\n",
       "      <td>-0.047284</td>\n",
       "      <td>0.114658</td>\n",
       "      <td>0</td>\n",
       "    </tr>\n",
       "    <tr>\n",
       "      <th>ISRG</th>\n",
       "      <td>-0.134480</td>\n",
       "      <td>0.100004</td>\n",
       "      <td>0</td>\n",
       "    </tr>\n",
       "    <tr>\n",
       "      <th>...</th>\n",
       "      <td>...</td>\n",
       "      <td>...</td>\n",
       "      <td>...</td>\n",
       "    </tr>\n",
       "    <tr>\n",
       "      <th>PYPL</th>\n",
       "      <td>0.098794</td>\n",
       "      <td>0.158400</td>\n",
       "      <td>3</td>\n",
       "    </tr>\n",
       "    <tr>\n",
       "      <th>PAYC</th>\n",
       "      <td>0.094194</td>\n",
       "      <td>0.109586</td>\n",
       "      <td>3</td>\n",
       "    </tr>\n",
       "    <tr>\n",
       "      <th>PARA</th>\n",
       "      <td>-0.009457</td>\n",
       "      <td>0.128074</td>\n",
       "      <td>3</td>\n",
       "    </tr>\n",
       "    <tr>\n",
       "      <th>OKE</th>\n",
       "      <td>0.063295</td>\n",
       "      <td>0.095843</td>\n",
       "      <td>3</td>\n",
       "    </tr>\n",
       "    <tr>\n",
       "      <th>DXCM</th>\n",
       "      <td>-0.023315</td>\n",
       "      <td>0.124470</td>\n",
       "      <td>3</td>\n",
       "    </tr>\n",
       "  </tbody>\n",
       "</table>\n",
       "<p>496 rows × 3 columns</p>\n",
       "</div>"
      ],
      "text/plain": [
       "      mean return  volatility labels\n",
       "MMM     -0.183411    0.106008      0\n",
       "IPG     -0.088910    0.077277      0\n",
       "IFF     -0.150045    0.087057      0\n",
       "INTU    -0.047284    0.114658      0\n",
       "ISRG    -0.134480    0.100004      0\n",
       "...           ...         ...    ...\n",
       "PYPL     0.098794    0.158400      3\n",
       "PAYC     0.094194    0.109586      3\n",
       "PARA    -0.009457    0.128074      3\n",
       "OKE      0.063295    0.095843      3\n",
       "DXCM    -0.023315    0.124470      3\n",
       "\n",
       "[496 rows x 3 columns]"
      ]
     },
     "execution_count": 39,
     "metadata": {},
     "output_type": "execute_result"
    }
   ],
   "source": [
    "feature_df['labels']=label\n",
    "feature_df['labels'] = feature_df['labels'].astype(\"category\")\n",
    "feature_df.sort_values(by=['labels'])"
   ]
  },
  {
   "cell_type": "code",
   "execution_count": 15,
   "id": "3c7d2665",
   "metadata": {},
   "outputs": [
    {
     "data": {
      "text/plain": [
       "{0:       mean return  volatility labels\n",
       " ABBV    -0.057189    0.040779      0\n",
       " ACN     -0.061572    0.060347      0\n",
       " ATVI    -0.021296    0.023720      0\n",
       " ADM      0.060132    0.057543      0\n",
       " ADP      0.023879    0.051494      0\n",
       " ...           ...         ...    ...\n",
       " WMB      0.008214    0.077787      0\n",
       " WTW      0.015942    0.055754      0\n",
       " GWW      0.023936    0.052480      0\n",
       " XEL      0.027682    0.037318      0\n",
       " XYL      0.003984    0.102714      0\n",
       " \n",
       " [215 rows x 3 columns],\n",
       " 1:       mean return  volatility labels\n",
       " MMM     -0.183411    0.106008      1\n",
       " AOS     -0.114167    0.081251      1\n",
       " ABT     -0.077187    0.054397      1\n",
       " ABMD    -0.149033    0.107534      1\n",
       " ADBE    -0.121400    0.095832      1\n",
       " ...           ...         ...    ...\n",
       " WRK     -0.036497    0.089022      1\n",
       " WY      -0.091272    0.071149      1\n",
       " WHR     -0.137029    0.094779      1\n",
       " WYNN    -0.045989    0.120341      1\n",
       " YUM     -0.129340    0.048028      1\n",
       " \n",
       " [189 rows x 3 columns],\n",
       " 2:       mean return  volatility labels\n",
       " AAP     -0.187854    0.135775      2\n",
       " ALGN    -0.187439    0.145285      2\n",
       " AMD     -0.167667    0.140418      2\n",
       " AMAT    -0.161822    0.145565      2\n",
       " APTV    -0.156372    0.173319      2\n",
       " BALL    -0.353462    0.220133      2\n",
       " BBY     -0.093057    0.143771      2\n",
       " CZR     -0.064098    0.168172      2\n",
       " CTLT    -0.324121    0.113652      2\n",
       " CRL     -0.258729    0.153718      2\n",
       " DLTR    -0.279598    0.140200      2\n",
       " DXC     -0.329971    0.203669      2\n",
       " FTNT    -0.266597    0.189858      2\n",
       " GNRC    -0.245552    0.162734      2\n",
       " HPQ     -0.185294    0.137532      2\n",
       " ILMN    -0.080148    0.212904      2\n",
       " LRCX    -0.174549    0.157471      2\n",
       " LNC     -0.117365    0.133024      2\n",
       " MTCH    -0.322396    0.270422      2\n",
       " MU      -0.143414    0.132089      2\n",
       " MRNA    -0.254379    0.205349      2\n",
       " TAP     -0.181233    0.119061      2\n",
       " NVDA    -0.259595    0.160484      2\n",
       " PENN    -0.108462    0.171271      2\n",
       " PKI     -0.255996    0.103207      2\n",
       " PVH     -0.090197    0.173817      2\n",
       " QRVO    -0.178484    0.130686      2\n",
       " CRM     -0.197321    0.113284      2\n",
       " STX     -0.231855    0.136527      2\n",
       " SEDG    -0.348193    0.236271      2\n",
       " TER     -0.222145    0.140542      2\n",
       " WBD     -0.186953    0.236328      2\n",
       " WAT     -0.268636    0.093749      2\n",
       " WDC     -0.201655    0.138626      2,\n",
       " 3:       mean return  volatility labels\n",
       " AES      0.181920    0.091074      3\n",
       " APA      0.116325    0.198638      3\n",
       " BKR      0.005396    0.115642      3\n",
       " BBWI     0.030975    0.163297      3\n",
       " CAH      0.214334    0.084348      3\n",
       " CCL      0.116979    0.208991      3\n",
       " CDAY     0.127925    0.169290      3\n",
       " CF       0.131885    0.136814      3\n",
       " COP      0.191638    0.107143      3\n",
       " CEG      0.292552    0.120881      3\n",
       " CTRA     0.044907    0.105939      3\n",
       " DVN      0.184616    0.164481      3\n",
       " DXCM    -0.023315    0.124470      3\n",
       " FANG     0.079202    0.141449      3\n",
       " DISH     0.008596    0.153378      3\n",
       " DIS      0.086327    0.121253      3\n",
       " ENPH     0.019065    0.106058      3\n",
       " EOG      0.154724    0.123014      3\n",
       " EPAM     0.234475    0.151110      3\n",
       " ETSY     0.031845    0.146595      3\n",
       " EXPE     0.011957    0.119088      3\n",
       " XOM      0.014021    0.106255      3\n",
       " F        0.020073    0.117053      3\n",
       " FCX     -0.031121    0.166833      3\n",
       " IT       0.102917    0.114100      3\n",
       " GM       0.074449    0.111007      3\n",
       " HAL      0.094512    0.144584      3\n",
       " HES      0.142747    0.127437      3\n",
       " HST      0.010096    0.105735      3\n",
       " IRM      0.110928    0.095299      3\n",
       " MRO      0.081877    0.158759      3\n",
       " MPC      0.157867    0.097056      3\n",
       " META     0.034790    0.128063      3\n",
       " MGM      0.013429    0.112163      3\n",
       " MPWR    -0.006888    0.163316      3\n",
       " MOS      0.082462    0.144775      3\n",
       " NTAP     0.010998    0.111461      3\n",
       " NFLX     0.010473    0.121010      3\n",
       " NWSA    -0.001843    0.133677      3\n",
       " NWS      0.010108    0.112472      3\n",
       " NLSN     0.203609    0.223840      3\n",
       " NCLH     0.154195    0.245904      3\n",
       " NRG      0.130370    0.088412      3\n",
       " OXY      0.121870    0.173188      3\n",
       " ON       0.086053    0.173952      3\n",
       " OKE      0.063295    0.095843      3\n",
       " PARA    -0.009457    0.128074      3\n",
       " PAYC     0.094194    0.109586      3\n",
       " PYPL     0.098794    0.158400      3\n",
       " PXD      0.131068    0.110474      3\n",
       " PFG      0.161070    0.097199      3\n",
       " ROST     0.069548    0.093948      3\n",
       " RCL      0.194678    0.199203      3\n",
       " SLB      0.073095    0.142006      3\n",
       " SIVB     0.043662    0.144225      3\n",
       " TPR      0.051301    0.110255      3\n",
       " ULTA     0.094363    0.095674      3\n",
       " VLO      0.087443    0.125058      3}"
      ]
     },
     "execution_count": 15,
     "metadata": {},
     "output_type": "execute_result"
    }
   ],
   "source": [
    "k_list=np.arange(0,k_clusters,1)\n",
    "k_list\n",
    "d = {}\n",
    "for k in k_list:\n",
    "    d[k] = pd.DataFrame()\n",
    "    d[k] = feature_df[feature_df['labels'] ==k]"
   ]
  },
  {
   "cell_type": "markdown",
   "id": "2ea9aee5",
   "metadata": {},
   "source": [
    "# As an example:\n",
    "## 1. Take one of the clusters as the basket of assets\n",
    "## 2. Calculate the Hurst exponent for every possible pair within said cluster \n",
    "## 3. Pick the pairs with lowest Hurst exponent and run it through the original algo to get the returns (backtest)\n",
    "* see part 3 for details"
   ]
  },
  {
   "cell_type": "markdown",
   "id": "f03d4d77",
   "metadata": {},
   "source": [
    "### Let's use the cluster with the highests vol and lowest returns over 30 days and see if the pairs trading with copula (see part 1) algo can beat a long only strategy"
   ]
  },
  {
   "cell_type": "markdown",
   "id": "e6d8e5bd",
   "metadata": {},
   "source": [
    "### Sort the cluster centers based on volatility and pick the cluster with highest vol"
   ]
  },
  {
   "cell_type": "code",
   "execution_count": null,
   "id": "4dd02fac",
   "metadata": {},
   "outputs": [],
   "source": [
    "d_scale = {}\n",
    "for k in k_list:\n",
    "    d_scale[k] = pd.DataFrame()\n",
    "    d_scale[k] = scale_feature_df[feature_df['labels'] ==k]\n",
    "\n",
    "mean_list=[]\n",
    "vol_list=[]\n",
    "for i in k_list:\n",
    "    mean_list.append(d_scale[i]['mean return'].mean())\n",
    "    vol_list.append(d_scale[i]['volatility'].mean())\n",
    "center_list=list(zip(mean_list,vol_list,k_list))\n",
    "\n",
    "def sort_tuple(tup):\n",
    "    tup.sort(key = lambda x: x[1])\n",
    "    return tup\n",
    "center_list=sort_tuple(center_list)"
   ]
  },
  {
   "cell_type": "markdown",
   "id": "d49a28d0",
   "metadata": {},
   "source": [
    "## Sort the assets in each cluster into a dictionary of lists (each lists corresponds to a cluster)\n",
    "### In this case, we are just choosing one cluster to minimise computation"
   ]
  },
  {
   "cell_type": "code",
   "execution_count": 21,
   "id": "80432db9",
   "metadata": {},
   "outputs": [
    {
     "data": {
      "text/plain": [
       "['AAP',\n",
       " 'ALGN',\n",
       " 'AMD',\n",
       " 'AMAT',\n",
       " 'APTV',\n",
       " 'BALL',\n",
       " 'BBY',\n",
       " 'CZR',\n",
       " 'CTLT',\n",
       " 'CRL',\n",
       " 'DLTR',\n",
       " 'DXC',\n",
       " 'FTNT',\n",
       " 'GNRC',\n",
       " 'HPQ',\n",
       " 'ILMN',\n",
       " 'LRCX',\n",
       " 'LNC',\n",
       " 'MTCH',\n",
       " 'MU',\n",
       " 'MRNA',\n",
       " 'TAP',\n",
       " 'NVDA',\n",
       " 'PENN',\n",
       " 'PKI',\n",
       " 'PVH',\n",
       " 'QRVO',\n",
       " 'CRM',\n",
       " 'STX',\n",
       " 'SEDG',\n",
       " 'TER',\n",
       " 'WBD',\n",
       " 'WAT',\n",
       " 'WDC']"
      ]
     },
     "execution_count": 21,
     "metadata": {},
     "output_type": "execute_result"
    }
   ],
   "source": [
    "asset_dict = {}\n",
    "for a in k_list:\n",
    "    asset_dict[a] = d[a].index.tolist()\n",
    "asset_dict[center_list[-1][2]]"
   ]
  },
  {
   "cell_type": "markdown",
   "id": "341e1360",
   "metadata": {},
   "source": [
    "# Run assets in cluster through algo (see part 3) to get returns via Hurst"
   ]
  },
  {
   "cell_type": "code",
   "execution_count": null,
   "id": "96f121dd",
   "metadata": {},
   "outputs": [],
   "source": [
    "h=Hurst()\n",
    "hurst_returns=h.get_hurst_return(asset_dict[center_list[-1][2]] ,start_data,end_data,start_trade,end_trade,int(len(asset_dict[center_list[-1][2]])/2))\n",
    "hurst_returns"
   ]
  },
  {
   "cell_type": "markdown",
   "id": "5601059f",
   "metadata": {},
   "source": [
    "# Metrics"
   ]
  },
  {
   "cell_type": "code",
   "execution_count": 29,
   "id": "15a21715",
   "metadata": {},
   "outputs": [
    {
     "name": "stdout",
     "output_type": "stream",
     "text": [
      "[*********************100%***********************]  1 of 1 completed\n"
     ]
    },
    {
     "data": {
      "text/html": [
       "<div>\n",
       "<style scoped>\n",
       "    .dataframe tbody tr th:only-of-type {\n",
       "        vertical-align: middle;\n",
       "    }\n",
       "\n",
       "    .dataframe tbody tr th {\n",
       "        vertical-align: top;\n",
       "    }\n",
       "\n",
       "    .dataframe thead th {\n",
       "        text-align: right;\n",
       "    }\n",
       "</style>\n",
       "<table border=\"1\" class=\"dataframe\">\n",
       "  <thead>\n",
       "    <tr style=\"text-align: right;\">\n",
       "      <th></th>\n",
       "      <th>Total return</th>\n",
       "      <th>APR</th>\n",
       "      <th>Sharpe</th>\n",
       "      <th>Max Drawdown</th>\n",
       "      <th>Max Drawdown Duration</th>\n",
       "    </tr>\n",
       "  </thead>\n",
       "  <tbody>\n",
       "    <tr>\n",
       "      <th>Algo-KMeans</th>\n",
       "      <td>0.020057</td>\n",
       "      <td>0.255417</td>\n",
       "      <td>4.563792</td>\n",
       "      <td>-0.002939</td>\n",
       "      <td>1.0</td>\n",
       "    </tr>\n",
       "    <tr>\n",
       "      <th>Index</th>\n",
       "      <td>-0.031564</td>\n",
       "      <td>-0.307454</td>\n",
       "      <td>-1.855592</td>\n",
       "      <td>-0.080335</td>\n",
       "      <td>11.0</td>\n",
       "    </tr>\n",
       "  </tbody>\n",
       "</table>\n",
       "</div>"
      ],
      "text/plain": [
       "            Total return       APR    Sharpe Max Drawdown  \\\n",
       "Algo-KMeans     0.020057  0.255417  4.563792    -0.002939   \n",
       "Index          -0.031564 -0.307454 -1.855592    -0.080335   \n",
       "\n",
       "            Max Drawdown Duration  \n",
       "Algo-KMeans                   1.0  \n",
       "Index                        11.0  "
      ]
     },
     "execution_count": 29,
     "metadata": {},
     "output_type": "execute_result"
    }
   ],
   "source": [
    "index_price = yf.download(index_comp, start=start_trade, end=end_trade)\n",
    "index_price = index_price['Adj Close']\n",
    "index_ret = index_price.pct_change().dropna()\n",
    "\n",
    "metrics= pd.DataFrame(index=['Algo-KMeans'], columns=['Total return', 'APR', 'Sharpe', 'Max Drawdown', 'Max Drawdown Duration'])\n",
    "metrics.loc['Algo-KMeans'] =h.metrics_calc(np.nancumprod(hurst_returns + 1))\n",
    "\n",
    "metrics.loc['Index']=h.metrics_calc(np.nancumprod(index_ret + 1))\n",
    "metrics\n"
   ]
  },
  {
   "cell_type": "code",
   "execution_count": 28,
   "id": "e54dd75c",
   "metadata": {},
   "outputs": [
    {
     "data": {
      "text/plain": [
       "<matplotlib.legend.Legend at 0x12a360a30>"
      ]
     },
     "execution_count": 28,
     "metadata": {},
     "output_type": "execute_result"
    },
    {
     "data": {
      "image/png": "[encoded data removed]",
      "text/plain": [
       "<Figure size 1296x432 with 1 Axes>"
      ]
     },
     "metadata": {
      "needs_background": "light"
     },
     "output_type": "display_data"
    }
   ],
   "source": [
    "plt.figure(figsize=(18,6))\n",
    "plt.plot(np.nancumprod(hurst_returns + 1), label='algo k-means')\n",
    "plt.plot(np.nancumprod(index_ret + 1), label=index_comp)\n",
    "plt.legend()"
   ]
  },
  {
   "cell_type": "markdown",
   "id": "1b274c1d",
   "metadata": {},
   "source": [
    "### Clearly it did better than randomly picking pairs, but would be interesting to backtest algo with all possible clusters"
   ]
  },
  {
   "cell_type": "code",
   "execution_count": null,
   "id": "6defc84e",
   "metadata": {},
   "outputs": [],
   "source": []
  }
 ],
 "metadata": {
  "kernelspec": {
   "display_name": "Python 3 (ipykernel)",
   "language": "python",
   "name": "python3"
  },
  "language_info": {
   "codemirror_mode": {
    "name": "ipython",
    "version": 3
   },
   "file_extension": ".py",
   "mimetype": "text/x-python",
   "name": "python",
   "nbconvert_exporter": "python",
   "pygments_lexer": "ipython3",
   "version": "3.9.7"
  }
 },
 "nbformat": 4,
 "nbformat_minor": 5
}

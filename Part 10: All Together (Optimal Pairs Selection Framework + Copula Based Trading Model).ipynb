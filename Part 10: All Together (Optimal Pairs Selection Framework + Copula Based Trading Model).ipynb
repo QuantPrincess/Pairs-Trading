{
 "cells": [
  {
   "cell_type": "code",
   "execution_count": 1,
   "id": "c5ea3a95",
   "metadata": {},
   "outputs": [],
   "source": [
    "import pandas as pd\n",
    "import matplotlib.pyplot as plt\n",
    "import numpy as np\n",
    "import scipy.stats as stats\n",
    "from scipy.stats import pearsonr\n",
    "import yfinance as yf\n",
    "import itertools\n",
    "import math\n",
    "import random\n",
    "\n",
    "\n",
    "import statsmodels\n",
    "import statsmodels.api as sm\n",
    "from statsmodels.tsa.stattools import coint, adfuller\n",
    "\n",
    "import matplotlib.pyplot as plt\n",
    "\n",
    "from co import *\n",
    "import ndtest"
   ]
  },
  {
   "cell_type": "code",
   "execution_count": 33,
   "id": "cc1877fc",
   "metadata": {},
   "outputs": [],
   "source": [
    "#Asset list from DBSCAN clusters - utilities\n",
    "lst=('LNT','AEE','AEP','ATO','CNP','CMS','ED','D','DTE','DUK','EIX','ETR','EVRG','ES','EXC','FE')\n",
    "\n",
    "#dates for model calibration\n",
    "start_data='2021-09-01'\n",
    "end_data='2022-09-01'\n",
    "\n",
    "start_trade='2022-09-02'\n",
    "end_trade='2022-12-02'\n",
    "\n",
    "index_comp='SPY'\n",
    "util_index_comp='VPU'"
   ]
  },
  {
   "cell_type": "code",
   "execution_count": 3,
   "id": "8e5b0c36",
   "metadata": {},
   "outputs": [],
   "source": [
    "pair_order_list = itertools.combinations(lst,2)\n",
    "pairs=list(pair_order_list)"
   ]
  },
  {
   "cell_type": "code",
   "execution_count": null,
   "id": "930accbe",
   "metadata": {},
   "outputs": [],
   "source": [
    "ret_df= pd.DataFrame()\n",
    "for j in range(0,len(lst)):\n",
    "    X = yf.download(lst[j], start = start_data, end=end_data)\n",
    "    X.reset_index(inplace=True)\n",
    "    X.tail()\n",
    "    X['Log_Returns'] = np.log(X['Adj Close']) - np.log(X['Adj Close'].shift(1))\n",
    "    x = X['Log_Returns'].drop(labels=0, axis=0)\n",
    "    date=X['Date'].drop(labels=0,axis=0)\n",
    "    date=date.to_frame()\n",
    "\n",
    "    x_df=x.to_frame().dropna()\n",
    "\n",
    "    b=x_df.rename(columns={'Log_Returns': lst[j]})\n",
    "    b=b[lst[j]].values\n",
    "    ret_df[lst[j]]=b"
   ]
  },
  {
   "cell_type": "code",
   "execution_count": null,
   "id": "af2af82a",
   "metadata": {},
   "outputs": [],
   "source": [
    "co_pairs=[]\n",
    "np.random.seed(107)\n",
    "for i in range(0,len(pairs)):\n",
    "    score, pvalue, _ = coint(np.cumsum(ret_df[pairs[i][0]]),np.cumsum(ret_df[pairs[i][1]]))\n",
    "\n",
    "    confidence_level = 0.05\n",
    "\n",
    "    if pvalue < confidence_level:\n",
    "        co_pairs.append(pairs[i])\n",
    "        print (pairs[i],\" are cointegrated\")\n",
    "        print (pvalue)\n",
    "    else:\n",
    "        print (pairs[i],\" are not cointegrated\")\n",
    "        print (pvalue)\n"
   ]
  },
  {
   "cell_type": "code",
   "execution_count": 27,
   "id": "71cc5c71",
   "metadata": {},
   "outputs": [
    {
     "name": "stdout",
     "output_type": "stream",
     "text": [
      "Cointegrated pairs in the utilities cluster\n"
     ]
    },
    {
     "data": {
      "text/plain": [
       "[('LNT', 'CNP'),\n",
       " ('LNT', 'ED'),\n",
       " ('LNT', 'D'),\n",
       " ('LNT', 'EIX'),\n",
       " ('LNT', 'ETR'),\n",
       " ('AEE', 'AEP'),\n",
       " ('AEE', 'CNP'),\n",
       " ('AEE', 'CMS'),\n",
       " ('AEE', 'DUK'),\n",
       " ('AEE', 'ETR'),\n",
       " ('AEP', 'CNP'),\n",
       " ('CNP', 'CMS'),\n",
       " ('CNP', 'ED'),\n",
       " ('CNP', 'DUK'),\n",
       " ('CNP', 'ETR'),\n",
       " ('CNP', 'EVRG'),\n",
       " ('CMS', 'ED'),\n",
       " ('CMS', 'D'),\n",
       " ('CMS', 'DTE'),\n",
       " ('CMS', 'DUK'),\n",
       " ('CMS', 'ETR'),\n",
       " ('CMS', 'EXC'),\n",
       " ('D', 'DTE'),\n",
       " ('D', 'EXC'),\n",
       " ('DTE', 'DUK'),\n",
       " ('DUK', 'ETR'),\n",
       " ('DUK', 'EXC'),\n",
       " ('EIX', 'EVRG'),\n",
       " ('EIX', 'ES')]"
      ]
     },
     "execution_count": 27,
     "metadata": {},
     "output_type": "execute_result"
    }
   ],
   "source": [
    "print('Cointegrated pairs in the utilities cluster')\n",
    "co_pairs"
   ]
  },
  {
   "cell_type": "code",
   "execution_count": 7,
   "id": "a4846366",
   "metadata": {},
   "outputs": [],
   "source": [
    "def get_hurst_exponent(time_series, max_lag=20):\n",
    "        lags = range(2, max_lag)\n",
    "\n",
    "        # variances of the lagged differences\n",
    "        tau = [np.std(np.subtract(time_series[lag:], time_series[:-lag])) for lag in lags]\n",
    "\n",
    "        # calculate the slope of the log plot -> the Hurst Exponent\n",
    "        reg = np.polyfit(np.log(lags), np.log(tau), 1)\n",
    "\n",
    "        return reg[0]"
   ]
  },
  {
   "cell_type": "code",
   "execution_count": 8,
   "id": "4875e37d",
   "metadata": {},
   "outputs": [],
   "source": [
    "pairs_df=pd.DataFrame(columns=['spread'])\n",
    "hurst_list=[]\n",
    "for i in range(0,len(co_pairs)):\n",
    "    #calculate spread of adjusted close price between asset pair\n",
    "    pairs_df['spread'] = np.abs(ret_df[co_pairs[i][0]] - ret_df[co_pairs[i][1]])\n",
    "\n",
    "    hurst_exp = get_hurst_exponent(pairs_df['spread'].values)\n",
    "    hurst_list.append(hurst_exp)\n",
    "\n",
    "list_zip = zip(co_pairs,hurst_list)\n",
    "zipped_list = list(list_zip)\n",
    "zipped_list.sort(key=lambda a: a[1])\n",
    "\n",
    "selected_stocks = []\n",
    "selected_pairs = []\n",
    "opt_asset1=[]\n",
    "opt_asset2=[]\n",
    "for i in range(0,len(co_pairs)):\n",
    "    s1=co_pairs[i][0]\n",
    "    s2=co_pairs[i][1]\n",
    "\n",
    "    if (s1 not in selected_stocks) and (s2 not in selected_stocks):\n",
    "        selected_stocks.append(s1)\n",
    "        selected_stocks.append(s2)\n",
    "        pair=s1+' and '+s2\n",
    "        selected_pairs.append(pair)\n",
    "\n",
    "    if len(selected_pairs) == math.comb(len(lst),2):\n",
    "        break\n",
    "\n",
    "opt_asset1=selected_stocks[0:len(selected_stocks)-1:2]\n",
    "opt_asset2=selected_stocks[1:len(selected_stocks):2]"
   ]
  },
  {
   "cell_type": "code",
   "execution_count": 29,
   "id": "8db4deec",
   "metadata": {},
   "outputs": [
    {
     "name": "stdout",
     "output_type": "stream",
     "text": [
      "Selected pairs given cointegrated and minimum Hurst Exponent\n"
     ]
    },
    {
     "data": {
      "text/plain": [
       "['LNT and CNP',\n",
       " 'AEE and AEP',\n",
       " 'CMS and ED',\n",
       " 'D and DTE',\n",
       " 'DUK and ETR',\n",
       " 'EIX and EVRG']"
      ]
     },
     "execution_count": 29,
     "metadata": {},
     "output_type": "execute_result"
    }
   ],
   "source": [
    "print('Selected pairs given cointegrated and minimum Hurst Exponent')\n",
    "selected_pairs"
   ]
  },
  {
   "cell_type": "code",
   "execution_count": 30,
   "id": "ca80027a",
   "metadata": {},
   "outputs": [],
   "source": [
    "opt_asset_list=opt_asset1+opt_asset2"
   ]
  },
  {
   "cell_type": "code",
   "execution_count": null,
   "id": "28c9fbb9",
   "metadata": {},
   "outputs": [],
   "source": [
    "opt_ret_df= pd.DataFrame()\n",
    "for j in range(0,len(opt_asset_list)):\n",
    "    X = yf.download(opt_asset_list[j], start = start_trade, end=end_trade)\n",
    "    X.reset_index(inplace=True)\n",
    "    X.tail()\n",
    "    X['Log_Returns'] = np.log(X['Adj Close']) - np.log(X['Adj Close'].shift(1))\n",
    "    x = X['Log_Returns'].drop(labels=0, axis=0)\n",
    "    date=X['Date'].drop(labels=0,axis=0)\n",
    "    date=date.to_frame()\n",
    "    \n",
    "    x_df=x.to_frame().dropna()\n",
    "\n",
    "    b=x_df.rename(columns={'Log_Returns': opt_asset_list[j]})\n",
    "    b=b[opt_asset_list[j]].values\n",
    "    opt_ret_df[opt_asset_list[j]]=b\n",
    "    \n",
    "x=opt_ret_df.join(date)\n",
    "opt_ret_df=x.set_index('Date')"
   ]
  },
  {
   "cell_type": "code",
   "execution_count": 17,
   "id": "a2a235b4",
   "metadata": {},
   "outputs": [],
   "source": [
    "returns_trade_period=opt_ret_df"
   ]
  },
  {
   "cell_type": "code",
   "execution_count": null,
   "id": "1ffabe51",
   "metadata": {
    "scrolled": true
   },
   "outputs": [],
   "source": [
    "df=pd.DataFrame()\n",
    "best_cop_lst=[]\n",
    "for i in range(0,len(opt_asset1)):\n",
    "    #assets (yfinance ticker)\n",
    "    x=ret_df[opt_asset1[i]]\n",
    "    y=ret_df[opt_asset2[i]]\n",
    "    pairs=selected_pairs[i] #insert name of asset 1 and asset 2\n",
    "\n",
    "    #fit distribution to element in pair + probability integral transform to get marginal uniform\n",
    "\n",
    "    param1 = stats.t.fit(x)\n",
    "    dist1=stats.t(*param1)\n",
    "    u=dist1.cdf(x)\n",
    "    param2=stats.t.fit(y)\n",
    "    dist2=stats.t(*param2)\n",
    "    v=dist2.cdf(y)\n",
    "\n",
    "\n",
    "\n",
    "\n",
    "    #fit bivariate copula family to data \n",
    "    #calculate Akaike information criterion, Bayesion information criterion and KS value to help determine good fit\n",
    "\n",
    "    pair=[pairs]\n",
    "    copulas_df = pd.DataFrame(index=pair, columns=['copula', 'parameter', 'aic', 'bic', 'KS_pvalue'])\n",
    "\n",
    "\n",
    "    best_aic = np.inf\n",
    "    best_copula= None\n",
    "\n",
    "\n",
    "    copulas=[GaussianCopula(),GumbelCopula(), ClaytonCopula(),FrankCopula()]\n",
    "    for copula in copulas:\n",
    "        copula.fit(u,v)\n",
    "\n",
    "        L = copula.log_likelihood(u,v)\n",
    "        aic = 2 * copula.num_params - 2 * L\n",
    "        if aic < best_aic:\n",
    "            best_aic = aic\n",
    "            best_bic = copula.num_params * np.log(len(u)) - 2 * L\n",
    "            best_copula = copula\n",
    "\n",
    "            # calculate KS-pvalue\n",
    "            smp = copula.sample(size=len(u)) # generate sample from fit copula\n",
    "            s_u = smp[:,0]\n",
    "            s_v = smp[:,1]\n",
    "            ks_pval = ndtest.ks2d2s(u,v,s_u,s_v)\n",
    "\n",
    "            if isinstance(copula, ArchimedeanCopula):\n",
    "                best_param = copula.alpha\n",
    "            else:\n",
    "                best_param = copula.rho\n",
    "\n",
    "    best_cop_lst.append(best_copula)\n",
    "    copulas_df.loc[pair] = [best_copula.name, best_param, best_aic, best_bic, ks_pval]\n",
    "    df=df.append(copulas_df)\n",
    "\n",
    "#dataframe of the returns for the specific trading period for each pair\n",
    "algo_returns = {}\n",
    "cl = 0.85\n",
    "\n",
    "for q in range(0,len(selected_pairs)):\n",
    "    # calculate conditional probabilities\n",
    "    prob1=[]\n",
    "    prob2=[]\n",
    "\n",
    "    for u,v in zip(dist1.cdf(opt_ret_df[opt_asset1[q]]), dist2.cdf(opt_ret_df[opt_asset2[q]])):\n",
    "        prob1.append(best_cop_lst[q].cdf_u_given_v(u,v))\n",
    "        prob2.append(best_cop_lst[q].cdf_v_given_u(u,v))\n",
    "\n",
    "\n",
    "    probs_trade= pd.DataFrame(np.vstack([prob1,prob2]).T,index=opt_ret_df.index, columns=[opt_asset1[q],opt_asset2[q]])\n",
    "\n",
    "\n",
    "\n",
    "    #calculate positions\n",
    "    positions=pd.DataFrame(index=probs_trade.index, columns = probs_trade.columns)\n",
    "    long = False\n",
    "    short = False\n",
    "\n",
    "\n",
    "    for t in positions.index:    \n",
    "        # if long position is open\n",
    "        if long:\n",
    "            if (probs_trade.loc[t][opt_asset1[q]] > 0.5) or (probs_trade.loc[t][opt_asset2[q]] < 0.5):\n",
    "                positions.loc[t] = [0,0]\n",
    "                long = False\n",
    "            else:\n",
    "                positions.loc[t] = [1,-1]\n",
    "\n",
    "        # if short position is open\n",
    "        elif short:\n",
    "            if (probs_trade.loc[t][opt_asset1[q]] < 0.5) or (probs_trade.loc[t][opt_asset2[q]] > 0.5):\n",
    "                positions.loc[t] = [0,0]\n",
    "                short = False\n",
    "            else:\n",
    "                positions.loc[t] = [-1,1]\n",
    "\n",
    "        # if no positions are open\n",
    "        else:\n",
    "            if (probs_trade.loc[t][opt_asset1[q]] < (1-cl)) and (probs_trade.loc[t][opt_asset2[q]] > cl):\n",
    "                # open long position\n",
    "                positions.loc[t] = [1,-1]\n",
    "                long = True\n",
    "            elif (probs_trade.loc[t][opt_asset1[q]] > cl) and (probs_trade.loc[t][opt_asset2[q]] < (1-cl)):\n",
    "                # open short positions\n",
    "                positions.loc[t] = [-1,1]\n",
    "                short = True\n",
    "            else:\n",
    "                positions.loc[t] = [0,0]\n",
    "\n",
    "\n",
    "    # calculate returns\n",
    "    algo_ret = (returns_trade_period * positions.shift()).sum(axis=1)\n",
    "    algo_returns[selected_pairs[q]] = algo_ret\n",
    "\n",
    "rets = pd.DataFrame.from_dict(algo_returns)\n",
    "rets = np.exp(rets) - 1 # convert log-returns to simple returns\n",
    "total_ret = rets.sum(axis=1) / len(rets.columns) * 2 # double capital (from short positions)\n",
    "\n",
    "\n",
    "\n"
   ]
  },
  {
   "cell_type": "code",
   "execution_count": 21,
   "id": "20b9cd50",
   "metadata": {},
   "outputs": [
    {
     "name": "stdout",
     "output_type": "stream",
     "text": [
      "Algorithm returns for trading period:\n"
     ]
    },
    {
     "data": {
      "text/plain": [
       "Date\n",
       "NaT           0.000000\n",
       "2022-09-06    0.000000\n",
       "2022-09-07    0.000000\n",
       "2022-09-08    0.000000\n",
       "2022-09-09    0.000000\n",
       "                ...   \n",
       "2022-11-23    0.003775\n",
       "2022-11-25    0.000000\n",
       "2022-11-28    0.000000\n",
       "2022-11-29    0.000000\n",
       "2022-11-30    0.000000\n",
       "Length: 62, dtype: float64"
      ]
     },
     "execution_count": 21,
     "metadata": {},
     "output_type": "execute_result"
    }
   ],
   "source": [
    "# calculate returns\n",
    "algo_ret = (returns_trade_period * positions.shift()).sum(axis=1)\n",
    "algo_returns[pairs] = algo_ret\n",
    "\n",
    "print('Algorithm returns for trading period:')\n",
    "algo_ret"
   ]
  },
  {
   "cell_type": "code",
   "execution_count": 35,
   "id": "c9173e00",
   "metadata": {},
   "outputs": [
    {
     "name": "stdout",
     "output_type": "stream",
     "text": [
      "[*********************100%***********************]  1 of 1 completed\n",
      "[*********************100%***********************]  1 of 1 completed\n"
     ]
    },
    {
     "data": {
      "text/plain": [
       "<matplotlib.legend.Legend at 0x13249cb80>"
      ]
     },
     "execution_count": 35,
     "metadata": {},
     "output_type": "execute_result"
    },
    {
     "data": {
      "image/png": "[encoded data removed]",
      "text/plain": [
       "<Figure size 1296x432 with 1 Axes>"
      ]
     },
     "metadata": {
      "needs_background": "light"
     },
     "output_type": "display_data"
    }
   ],
   "source": [
    "#Plot of algorithm returns vs. index return\n",
    "#x-axis is # days from start of trading period\n",
    "returns = pd.DataFrame.from_dict(algo_returns)\n",
    "returns = np.exp(returns) - 1 # convert log-returns to simple returns\n",
    "total_ret = returns.sum(axis=1) / len(returns.columns) * 2 # double capital (from short positions)\n",
    "\n",
    "index_price = yf.download(index_comp, start=start_trade, end=end_trade)\n",
    "index_price = index_price['Adj Close']\n",
    "index_ret =index_price.pct_change().dropna()\n",
    "\n",
    "util_index_price = yf.download(util_index_comp, start=start_trade, end=end_trade)\n",
    "util_index_price = util_index_price['Adj Close']\n",
    "util_index_ret =util_index_price.pct_change().dropna()\n",
    "\n",
    "plt.figure(figsize=(18,6))\n",
    "plt.plot(np.nancumprod(total_ret + 1), label='algo')\n",
    "plt.plot(np.nancumprod(index_ret + 1), label=index_comp)\n",
    "plt.plot(np.nancumprod(util_index_ret + 1), label='Vanguard Utilities Index')\n",
    "plt.legend()\n"
   ]
  },
  {
   "cell_type": "code",
   "execution_count": 25,
   "id": "9d60ca7f",
   "metadata": {},
   "outputs": [],
   "source": [
    "def calculate_metrics(cumret):\n",
    "    total_return = (cumret[-1] - cumret[0])/cumret[0]\n",
    "    apr = (1+total_return)**(252/len(cumret)) - 1\n",
    "    rets = pd.DataFrame(cumret).pct_change()\n",
    "    sharpe = np.sqrt(252) * np.nanmean(rets) / np.nanstd(rets)\n",
    "    \n",
    "    # maxdd and maxddd\n",
    "    highwatermark=np.zeros(cumret.shape)\n",
    "    drawdown=np.zeros(cumret.shape)\n",
    "    drawdownduration=np.zeros(cumret.shape)\n",
    "    for t in np.arange(1, cumret.shape[0]):\n",
    "        highwatermark[t]=np.maximum(highwatermark[t-1], cumret[t])\n",
    "        drawdown[t]=cumret[t]/highwatermark[t]-1\n",
    "        if drawdown[t]==0:\n",
    "            drawdownduration[t]=0\n",
    "        else:\n",
    "            drawdownduration[t]=drawdownduration[t-1]+1\n",
    "    maxDD=np.min(drawdown)\n",
    "    maxDDD=np.max(drawdownduration)\n",
    "    \n",
    "    return total_return, apr, sharpe, maxDD, maxDDD"
   ]
  },
  {
   "cell_type": "code",
   "execution_count": 26,
   "id": "f75f6c97",
   "metadata": {},
   "outputs": [
    {
     "data": {
      "text/html": [
       "<div>\n",
       "<style scoped>\n",
       "    .dataframe tbody tr th:only-of-type {\n",
       "        vertical-align: middle;\n",
       "    }\n",
       "\n",
       "    .dataframe tbody tr th {\n",
       "        vertical-align: top;\n",
       "    }\n",
       "\n",
       "    .dataframe thead th {\n",
       "        text-align: right;\n",
       "    }\n",
       "</style>\n",
       "<table border=\"1\" class=\"dataframe\">\n",
       "  <thead>\n",
       "    <tr style=\"text-align: right;\">\n",
       "      <th></th>\n",
       "      <th>Total return</th>\n",
       "      <th>APR</th>\n",
       "      <th>Sharpe</th>\n",
       "      <th>Max Drawdown</th>\n",
       "      <th>Max Length Drawdown</th>\n",
       "    </tr>\n",
       "  </thead>\n",
       "  <tbody>\n",
       "    <tr>\n",
       "      <th>Algo</th>\n",
       "      <td>-0.031264</td>\n",
       "      <td>-0.121115</td>\n",
       "      <td>-2.35134</td>\n",
       "      <td>-0.049429</td>\n",
       "      <td>31.0</td>\n",
       "    </tr>\n",
       "    <tr>\n",
       "      <th>SPY</th>\n",
       "      <td>0.046815</td>\n",
       "      <td>0.204375</td>\n",
       "      <td>0.835238</td>\n",
       "      <td>-0.12883</td>\n",
       "      <td>57.0</td>\n",
       "    </tr>\n",
       "  </tbody>\n",
       "</table>\n",
       "</div>"
      ],
      "text/plain": [
       "     Total return       APR    Sharpe Max Drawdown Max Length Drawdown\n",
       "Algo    -0.031264 -0.121115  -2.35134    -0.049429                31.0\n",
       "SPY      0.046815  0.204375  0.835238     -0.12883                57.0"
      ]
     },
     "execution_count": 26,
     "metadata": {},
     "output_type": "execute_result"
    }
   ],
   "source": [
    "#performance metrics\n",
    "metrics = pd.DataFrame(index=['Algo', index_comp], columns=['Total return', 'APR', 'Sharpe', 'Max Drawdown', 'Max Length Drawdown'])\n",
    "metrics.loc['Algo'] = calculate_metrics(np.nancumprod(total_ret + 1))\n",
    "metrics.loc[index_comp] = calculate_metrics(np.nancumprod(index_ret + 1))\n",
    "\n",
    "metrics"
   ]
  },
  {
   "cell_type": "markdown",
   "id": "f6ce59d6",
   "metadata": {},
   "source": [
    "## Algo performed equivalently to benchmark (utility index) and poorly in comparison to broader S&P"
   ]
  }
 ],
 "metadata": {
  "kernelspec": {
   "display_name": "Python 3 (ipykernel)",
   "language": "python",
   "name": "python3"
  },
  "language_info": {
   "codemirror_mode": {
    "name": "ipython",
    "version": 3
   },
   "file_extension": ".py",
   "mimetype": "text/x-python",
   "name": "python",
   "nbconvert_exporter": "python",
   "pygments_lexer": "ipython3",
   "version": "3.9.7"
  }
 },
 "nbformat": 4,
 "nbformat_minor": 5
}
